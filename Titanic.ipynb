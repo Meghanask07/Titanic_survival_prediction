{
 "cells": [
  {
   "cell_type": "code",
   "execution_count": null,
   "id": "fe991e5d",
   "metadata": {},
   "outputs": [],
   "source": [
    "import numpy as np\n",
    "import pandas as pd\n",
    "import matplotlib.pyplot as plt\n",
    "import seaborn as sns"
   ]
  },
  {
   "cell_type": "code",
   "execution_count": null,
   "id": "83c394c1",
   "metadata": {},
   "outputs": [],
   "source": [
    "df = pd.read_csv('test.csv')\n"
   ]
  },
  {
   "cell_type": "code",
   "execution_count": null,
   "id": "d5802463",
   "metadata": {},
   "outputs": [],
   "source": [
    "df.head(10)\n"
   ]
  },
  {
   "cell_type": "code",
   "execution_count": null,
   "id": "83de3b76",
   "metadata": {},
   "outputs": [],
   "source": [
    "df.describe()"
   ]
  },
  {
   "cell_type": "code",
   "execution_count": null,
   "id": "5ed7eb15",
   "metadata": {},
   "outputs": [],
   "source": [
    "df.info()"
   ]
  },
  {
   "cell_type": "code",
   "execution_count": null,
   "id": "5bc3c6d1",
   "metadata": {},
   "outputs": [],
   "source": [
    "df['FamilySize'] =df['SibSp'] + df['Parch'] + 1\n",
    "df.groupby(['FamilySize'],as_index=False)['Survived'].agg(['count','mean'])\n"
   ]
  },
  {
   "cell_type": "code",
   "execution_count": null,
   "id": "98e5f103",
   "metadata": {},
   "outputs": [],
   "source": [
    "df['Fam_type'] = pd.cut(df.FamilySize,[0,1,4,7,11],labels=['Solo','Small','Medium','Big'])\n",
    "df.groupby(['Fam_type'],as_index=False)['Survived'].agg(['count','mean'])"
   ]
  },
  {
   "cell_type": "code",
   "execution_count": null,
   "id": "a4f07e62",
   "metadata": {},
   "outputs": [],
   "source": [
    "#survival count plot\n",
    "df['Survived'].value_counts()\n"
   ]
  },
  {
   "cell_type": "code",
   "execution_count": null,
   "id": "ed4e6f64",
   "metadata": {},
   "outputs": [],
   "source": [
    "sns.countplot(x='Survived',data=df)\n",
    "plt.title('Survival count')\n",
    "plt.xticks([0,1],['NOt Survived','Survived'])\n",
    "plt.show()"
   ]
  },
  {
   "cell_type": "code",
   "execution_count": null,
   "id": "1ee10db8",
   "metadata": {},
   "outputs": [],
   "source": [
    "#Survival by passenger class\n",
    "sns.countplot(x=df['Survived'],hue=df['Pclass'])"
   ]
  },
  {
   "cell_type": "code",
   "execution_count": null,
   "id": "a041d4b3",
   "metadata": {},
   "outputs": [],
   "source": [
    "df['Sex']\n"
   ]
  },
  {
   "cell_type": "code",
   "execution_count": null,
   "id": "00be2a49",
   "metadata": {},
   "outputs": [],
   "source": [
    "sns.countplot(x=df['Sex'],hue=df['Survived'])"
   ]
  },
  {
   "cell_type": "code",
   "execution_count": null,
   "id": "c708e00e",
   "metadata": {},
   "outputs": [],
   "source": [
    "df.groupby('Sex')[['Survived']].mean()"
   ]
  },
  {
   "cell_type": "code",
   "execution_count": null,
   "id": "efb9fea1",
   "metadata": {},
   "outputs": [],
   "source": [
    "from sklearn.preprocessing import LabelEncoder\n",
    "df['Sex'] = LabelEncoder().fit_transform(df['Sex'])\n",
    "df.head(10)"
   ]
  },
  {
   "cell_type": "code",
   "execution_count": null,
   "id": "c2c7ba6d",
   "metadata": {},
   "outputs": [],
   "source": [
    "df.isna().sum()"
   ]
  },
  {
   "cell_type": "code",
   "execution_count": null,
   "id": "e3a6ebe5",
   "metadata": {},
   "outputs": [],
   "source": [
    "df_final=df\n",
    "df_final.head(10)\n"
   ]
  },
  {
   "cell_type": "code",
   "execution_count": null,
   "id": "ddf8775b",
   "metadata": {},
   "outputs": [],
   "source": [
    "df_final['Age'].fillna(df_final['Age'].median(),inplace=True)\n",
    "df_final['Embarked'].fillna(df_final['Embarked'].mode()[0],inplace=True)\n"
   ]
  },
  {
   "cell_type": "code",
   "execution_count": null,
   "id": "2f09040d",
   "metadata": {},
   "outputs": [],
   "source": [
    "from sklearn.preprocessing import LabelEncoder\n",
    "le = LabelEncoder()\n",
    "df_final['Sex'] = le.fit_transform(df_final['Sex'])\n",
    "df_final['Embarked'] = le.fit_transform(df_final['Embarked'])\n",
    "df_final['Fam_type'] = le.fit_transform(df_final['Fam_type'])\n",
    "\n"
   ]
  },
  {
   "cell_type": "code",
   "execution_count": null,
   "id": "234d58a2",
   "metadata": {},
   "outputs": [],
   "source": [
    "from sklearn.model_selection import train_test_split\n",
    "from sklearn.linear_model import LogisticRegression\n",
    "from sklearn.metrics import accuracy_score,classification_report\n",
    "x = df_final[['Pclass','Sex','Age','Fare','FamilySize']]\n",
    "y = df_final['Survived']\n"
   ]
  },
  {
   "cell_type": "code",
   "execution_count": null,
   "id": "8a52df0b",
   "metadata": {},
   "outputs": [],
   "source": [
    "x_train, x_test, y_train, y_test = train_test_split(x,y,test_size=0.2, random_state=42)\n",
    "model = LogisticRegression()\n",
    "model.fit(x_train, y_train)\n",
    "y_pred = model.predict(x_test)\n",
    "print('Accuracy:',accuracy_score(y_test, y_pred))\n",
    "print(classification_report(y_test, y_pred))"
   ]
  },
  {
   "cell_type": "code",
   "execution_count": null,
   "id": "8961c29e",
   "metadata": {},
   "outputs": [],
   "source": [
    "res = model.predict([[1,0,22.0,7.25,2]])\n",
    "if res[0]==0:\n",
    "    print('Not Survived')\n",
    "else:\n",
    "    print('Survived')"
   ]
  },
  {
   "cell_type": "code",
   "execution_count": null,
   "id": "faf051e1",
   "metadata": {},
   "outputs": [],
   "source": []
  }
 ],
 "metadata": {
  "kernelspec": {
   "display_name": "base",
   "language": "python",
   "name": "python3"
  },
  "language_info": {
   "codemirror_mode": {
    "name": "ipython",
    "version": 3
   },
   "file_extension": ".py",
   "mimetype": "text/x-python",
   "name": "python",
   "nbconvert_exporter": "python",
   "pygments_lexer": "ipython3",
   "version": "3.11.5"
  }
 },
 "nbformat": 4,
 "nbformat_minor": 5
}
